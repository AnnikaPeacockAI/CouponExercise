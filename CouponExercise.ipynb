{
 "cells": [
  {
   "cell_type": "markdown",
   "metadata": {},
   "source": [
    "### Will a Customer Accept the Coupon?\n",
    "\n",
    "**Context**\n",
    "\n",
    "Imagine driving through town and a coupon is delivered to your cell phone for a restaraunt near where you are driving. Would you accept that coupon and take a short detour to the restaraunt? Would you accept the coupon but use it on a sunbsequent trip? Would you ignore the coupon entirely? What if the coupon was for a bar instead of a restaraunt? What about a coffee house? Would you accept a bar coupon with a minor passenger in the car? What about if it was just you and your partner in the car? Would weather impact the rate of acceptance? What about the time of day?\n",
    "\n",
    "Obviously, proximity to the business is a factor on whether the coupon is delivered to the driver or not, but what are the factors that determine whether a driver accepts the coupon once it is delivered to them? How would you determine whether a driver is likely to accept a coupon?\n",
    "\n",
    "**Overview**\n",
    "\n",
    "The goal of this project is to use what you know about visualizations and probability distributions to distinguish between customers who accepted a driving coupon versus those that did not.\n",
    "\n",
    "**Data**\n",
    "\n",
    "This data comes to us from the UCI Machine Learning repository and was collected via a survey on Amazon Mechanical Turk. The survey describes different driving scenarios including the destination, current time, weather, passenger, etc., and then ask the person whether he will accept the coupon if he is the driver. Answers that the user will drive there ‘right away’ or ‘later before the coupon expires’ are labeled as ‘Y = 1’ and answers ‘no, I do not want the coupon’ are labeled as ‘Y = 0’.  There are five different types of coupons -- less expensive restaurants (under \\\\$20), coffee houses, carry out & take away, bar, and more expensive restaurants (\\\\$20 - \\\\$50). "
   ]
  },
  {
   "cell_type": "markdown",
   "metadata": {},
   "source": [
    "**Deliverables**\n",
    "\n",
    "Your final product should be a brief report that highlights the differences between customers who did and did not accept the coupons.  To explore the data you will utilize your knowledge of plotting, statistical summaries, and visualization using Python. You will publish your findings in a public facing github repository as your first portfolio piece. \n",
    "\n",
    "\n",
    "\n"
   ]
  },
  {
   "cell_type": "markdown",
   "metadata": {},
   "source": [
    "### Data Description\n",
    "Keep in mind that these values mentioned below are average values.\n",
    "\n",
    "The attributes of this data set include:\n",
    "1. User attributes\n",
    "    -  Gender: male, female\n",
    "    -  Age: below 21, 21 to 25, 26 to 30, etc.\n",
    "    -  Marital Status: single, married partner, unmarried partner, or widowed\n",
    "    -  Number of children: 0, 1, or more than 1\n",
    "    -  Education: high school, bachelors degree, associates degree, or graduate degree\n",
    "    -  Occupation: architecture & engineering, business & financial, etc.\n",
    "    -  Annual income: less than \\\\$12500, \\\\$12500 - \\\\$24999, \\\\$25000 - \\\\$37499, etc.\n",
    "    -  Number of times that he/she goes to a bar: 0, less than 1, 1 to 3, 4 to 8 or greater than 8\n",
    "    -  Number of times that he/she buys takeaway food: 0, less than 1, 1 to 3, 4 to 8 or greater\n",
    "    than 8\n",
    "    -  Number of times that he/she goes to a coffee house: 0, less than 1, 1 to 3, 4 to 8 or\n",
    "    greater than 8\n",
    "    -  Number of times that he/she eats at a restaurant with average expense less than \\\\$20 per\n",
    "    person: 0, less than 1, 1 to 3, 4 to 8 or greater than 8\n",
    "    -  Number of times that he/she goes to a bar: 0, less than 1, 1 to 3, 4 to 8 or greater than 8\n",
    "    \n",
    "\n",
    "2. Contextual attributes\n",
    "    - Driving destination: home, work, or no urgent destination\n",
    "    - Location of user, coupon and destination: we provide a map to show the geographical\n",
    "    location of the user, destination, and the venue, and we mark the distance between each\n",
    "    two places with time of driving. The user can see whether the venue is in the same\n",
    "    direction as the destination.\n",
    "    - Weather: sunny, rainy, or snowy\n",
    "    - Temperature: 30F, 55F, or 80F\n",
    "    - Time: 10AM, 2PM, or 6PM\n",
    "    - Passenger: alone, partner, kid(s), or friend(s)\n",
    "\n",
    "\n",
    "3. Coupon attributes\n",
    "    - time before it expires: 2 hours or one day"
   ]
  },
  {
   "cell_type": "code",
   "execution_count": null,
   "metadata": {},
   "outputs": [
    {
     "name": "stdout",
     "output_type": "stream",
     "text": [
      "Requirement already satisfied: pandas in c:\\users\\annik\\anaconda3\\lib\\site-packages (1.5.3)\n",
      "Requirement already satisfied: python-dateutil>=2.8.1 in c:\\users\\annik\\anaconda3\\lib\\site-packages (from pandas) (2.8.2)\n",
      "Requirement already satisfied: pytz>=2020.1 in c:\\users\\annik\\anaconda3\\lib\\site-packages (from pandas) (2022.7)\n",
      "Requirement already satisfied: numpy>=1.21.0 in c:\\users\\annik\\anaconda3\\lib\\site-packages (from pandas) (1.24.3)\n",
      "Requirement already satisfied: six>=1.5 in c:\\users\\annik\\anaconda3\\lib\\site-packages (from python-dateutil>=2.8.1->pandas) (1.16.0)\n",
      "Requirement already satisfied: seaborn in c:\\users\\annik\\anaconda3\\lib\\site-packages (0.12.2)\n",
      "Requirement already satisfied: numpy!=1.24.0,>=1.17 in c:\\users\\annik\\anaconda3\\lib\\site-packages (from seaborn) (1.24.3)\n",
      "Requirement already satisfied: pandas>=0.25 in c:\\users\\annik\\anaconda3\\lib\\site-packages (from seaborn) (1.5.3)\n",
      "Requirement already satisfied: matplotlib!=3.6.1,>=3.1 in c:\\users\\annik\\anaconda3\\lib\\site-packages (from seaborn) (3.7.1)\n",
      "Requirement already satisfied: contourpy>=1.0.1 in c:\\users\\annik\\anaconda3\\lib\\site-packages (from matplotlib!=3.6.1,>=3.1->seaborn) (1.0.5)\n",
      "Requirement already satisfied: cycler>=0.10 in c:\\users\\annik\\anaconda3\\lib\\site-packages (from matplotlib!=3.6.1,>=3.1->seaborn) (0.11.0)\n",
      "Requirement already satisfied: fonttools>=4.22.0 in c:\\users\\annik\\anaconda3\\lib\\site-packages (from matplotlib!=3.6.1,>=3.1->seaborn) (4.25.0)\n",
      "Requirement already satisfied: kiwisolver>=1.0.1 in c:\\users\\annik\\anaconda3\\lib\\site-packages (from matplotlib!=3.6.1,>=3.1->seaborn) (1.4.4)\n",
      "Requirement already satisfied: packaging>=20.0 in c:\\users\\annik\\anaconda3\\lib\\site-packages (from matplotlib!=3.6.1,>=3.1->seaborn) (23.0)\n",
      "Requirement already satisfied: pillow>=6.2.0 in c:\\users\\annik\\anaconda3\\lib\\site-packages (from matplotlib!=3.6.1,>=3.1->seaborn) (9.4.0)\n",
      "Requirement already satisfied: pyparsing>=2.3.1 in c:\\users\\annik\\anaconda3\\lib\\site-packages (from matplotlib!=3.6.1,>=3.1->seaborn) (3.0.9)\n",
      "Requirement already satisfied: python-dateutil>=2.7 in c:\\users\\annik\\anaconda3\\lib\\site-packages (from matplotlib!=3.6.1,>=3.1->seaborn) (2.8.2)\n",
      "Requirement already satisfied: pytz>=2020.1 in c:\\users\\annik\\anaconda3\\lib\\site-packages (from pandas>=0.25->seaborn) (2022.7)\n",
      "Requirement already satisfied: six>=1.5 in c:\\users\\annik\\anaconda3\\lib\\site-packages (from python-dateutil>=2.7->matplotlib!=3.6.1,>=3.1->seaborn) (1.16.0)\n",
      "Requirement already satisfied: matplotlib in c:\\users\\annik\\anaconda3\\lib\\site-packages (3.7.1)\n",
      "Requirement already satisfied: contourpy>=1.0.1 in c:\\users\\annik\\anaconda3\\lib\\site-packages (from matplotlib) (1.0.5)\n",
      "Requirement already satisfied: cycler>=0.10 in c:\\users\\annik\\anaconda3\\lib\\site-packages (from matplotlib) (0.11.0)\n",
      "Requirement already satisfied: fonttools>=4.22.0 in c:\\users\\annik\\anaconda3\\lib\\site-packages (from matplotlib) (4.25.0)\n",
      "Requirement already satisfied: kiwisolver>=1.0.1 in c:\\users\\annik\\anaconda3\\lib\\site-packages (from matplotlib) (1.4.4)\n",
      "Requirement already satisfied: numpy>=1.20 in c:\\users\\annik\\anaconda3\\lib\\site-packages (from matplotlib) (1.24.3)\n",
      "Requirement already satisfied: packaging>=20.0 in c:\\users\\annik\\anaconda3\\lib\\site-packages (from matplotlib) (23.0)\n",
      "Requirement already satisfied: pillow>=6.2.0 in c:\\users\\annik\\anaconda3\\lib\\site-packages (from matplotlib) (9.4.0)\n",
      "Requirement already satisfied: pyparsing>=2.3.1 in c:\\users\\annik\\anaconda3\\lib\\site-packages (from matplotlib) (3.0.9)\n",
      "Requirement already satisfied: python-dateutil>=2.7 in c:\\users\\annik\\anaconda3\\lib\\site-packages (from matplotlib) (2.8.2)\n",
      "Requirement already satisfied: six>=1.5 in c:\\users\\annik\\anaconda3\\lib\\site-packages (from python-dateutil>=2.7->matplotlib) (1.16.0)\n"
     ]
    },
    {
     "name": "stderr",
     "output_type": "stream",
     "text": [
      "ERROR: Could not find a version that satisfies the requirement numpydjiow (from versions: none)\n",
      "ERROR: No matching distribution found for numpydjiow\n"
     ]
    }
   ],
   "source": [
    "!pip install pandas\n",
    "!pip install seaborn\n",
    "!pip install matplotlib\n",
    "!pip install numpy\n",
    "!conda install -c conda-forge matplotlib"
   ]
  },
  {
   "cell_type": "code",
   "execution_count": 5,
   "metadata": {},
   "outputs": [],
   "source": [
    "import matplotlib.pyplot as plt\n",
    "import seaborn as sns\n",
    "import pandas as pd\n",
    "import numpy as np"
   ]
  },
  {
   "cell_type": "markdown",
   "metadata": {},
   "source": [
    "### Problems\n",
    "\n",
    "Use the prompts below to get started with your data analysis.  \n",
    "\n",
    "1. Read in the `coupons.csv` file.\n",
    "\n",
    "\n"
   ]
  },
  {
   "cell_type": "code",
   "execution_count": 6,
   "metadata": {},
   "outputs": [],
   "source": [
    "df = pd.read_csv('coupons.csv')"
   ]
  },
  {
   "cell_type": "code",
   "execution_count": 7,
   "metadata": {},
   "outputs": [
    {
     "name": "stdout",
     "output_type": "stream",
     "text": [
      "       destination  passanger weather  temperature  time  \\\n",
      "0  No Urgent Place      Alone   Sunny           55   2PM   \n",
      "1  No Urgent Place  Friend(s)   Sunny           80  10AM   \n",
      "2  No Urgent Place  Friend(s)   Sunny           80  10AM   \n",
      "3  No Urgent Place  Friend(s)   Sunny           80   2PM   \n",
      "4  No Urgent Place  Friend(s)   Sunny           80   2PM   \n",
      "\n",
      "                  coupon expiration  gender age      maritalStatus  ...  \\\n",
      "0        Restaurant(<20)         1d  Female  21  Unmarried partner  ...   \n",
      "1           Coffee House         2h  Female  21  Unmarried partner  ...   \n",
      "2  Carry out & Take away         2h  Female  21  Unmarried partner  ...   \n",
      "3           Coffee House         2h  Female  21  Unmarried partner  ...   \n",
      "4           Coffee House         1d  Female  21  Unmarried partner  ...   \n",
      "\n",
      "   CoffeeHouse CarryAway RestaurantLessThan20 Restaurant20To50  \\\n",
      "0        never       NaN                  4~8              1~3   \n",
      "1        never       NaN                  4~8              1~3   \n",
      "2        never       NaN                  4~8              1~3   \n",
      "3        never       NaN                  4~8              1~3   \n",
      "4        never       NaN                  4~8              1~3   \n",
      "\n",
      "  toCoupon_GEQ5min toCoupon_GEQ15min toCoupon_GEQ25min direction_same  \\\n",
      "0                1                 0                 0              0   \n",
      "1                1                 0                 0              0   \n",
      "2                1                 1                 0              0   \n",
      "3                1                 1                 0              0   \n",
      "4                1                 1                 0              0   \n",
      "\n",
      "  direction_opp  Y  \n",
      "0             1  1  \n",
      "1             1  0  \n",
      "2             1  1  \n",
      "3             1  0  \n",
      "4             1  0  \n",
      "\n",
      "[5 rows x 26 columns]\n"
     ]
    }
   ],
   "source": [
    "print(df.head())"
   ]
  },
  {
   "cell_type": "markdown",
   "metadata": {},
   "source": [
    "2. Investigate the dataset for missing or problematic data."
   ]
  },
  {
   "cell_type": "code",
   "execution_count": 9,
   "metadata": {},
   "outputs": [
    {
     "name": "stdout",
     "output_type": "stream",
     "text": [
      "destination                 0\n",
      "passanger                   0\n",
      "weather                     0\n",
      "temperature                 0\n",
      "time                        0\n",
      "coupon                      0\n",
      "expiration                  0\n",
      "gender                      0\n",
      "age                         0\n",
      "maritalStatus               0\n",
      "has_children                0\n",
      "education                   0\n",
      "occupation                  0\n",
      "income                      0\n",
      "car                     12576\n",
      "Bar                       107\n",
      "CoffeeHouse               217\n",
      "CarryAway                 151\n",
      "RestaurantLessThan20      130\n",
      "Restaurant20To50          189\n",
      "toCoupon_GEQ5min            0\n",
      "toCoupon_GEQ15min           0\n",
      "toCoupon_GEQ25min           0\n",
      "direction_same              0\n",
      "direction_opp               0\n",
      "Y                           0\n",
      "dtype: int64\n"
     ]
    }
   ],
   "source": [
    "print(df.isna().sum())"
   ]
  },
  {
   "cell_type": "code",
   "execution_count": 11,
   "metadata": {},
   "outputs": [],
   "source": [
    "#Drop \"car\" since it contains no values.\n",
    "df.drop('car', axis=1, inplace=True)"
   ]
  },
  {
   "cell_type": "code",
   "execution_count": 14,
   "metadata": {},
   "outputs": [],
   "source": [
    "# Rename 'passanger' to 'passenger'\n",
    "df.rename(columns={'passanger': 'passenger'}, inplace=True)"
   ]
  },
  {
   "cell_type": "code",
   "execution_count": 15,
   "metadata": {},
   "outputs": [],
   "source": [
    "# Impute missing values with the mode of each column\n",
    "for col in df.columns:\n",
    "    df[col].fillna(df[col].mode()[0], inplace=True)"
   ]
  },
  {
   "cell_type": "code",
   "execution_count": 17,
   "metadata": {},
   "outputs": [
    {
     "name": "stdout",
     "output_type": "stream",
     "text": [
      "destination             0\n",
      "passenger               0\n",
      "weather                 0\n",
      "temperature             0\n",
      "time                    0\n",
      "coupon                  0\n",
      "expiration              0\n",
      "gender                  0\n",
      "age                     0\n",
      "maritalStatus           0\n",
      "has_children            0\n",
      "education               0\n",
      "occupation              0\n",
      "income                  0\n",
      "Bar                     0\n",
      "CoffeeHouse             0\n",
      "CarryAway               0\n",
      "RestaurantLessThan20    0\n",
      "Restaurant20To50        0\n",
      "toCoupon_GEQ5min        0\n",
      "toCoupon_GEQ15min       0\n",
      "toCoupon_GEQ25min       0\n",
      "direction_same          0\n",
      "direction_opp           0\n",
      "Y                       0\n",
      "dtype: int64\n"
     ]
    }
   ],
   "source": [
    "#Check if the above worked.\n",
    "print(df.isna().sum())"
   ]
  },
  {
   "cell_type": "markdown",
   "metadata": {},
   "source": [
    "3. Decide what to do about your missing data -- drop, replace, other..."
   ]
  },
  {
   "cell_type": "markdown",
   "metadata": {},
   "source": [
    "I chose to remove \"cars\" entirely as the column contained no data, and the other missing fields were imputed using the mode of the existing values in their respective columns, since the values were text based. "
   ]
  },
  {
   "cell_type": "markdown",
   "metadata": {},
   "source": [
    "4. What proportion of the total observations chose to accept the coupon? \n"
   ]
  },
  {
   "cell_type": "code",
   "execution_count": 19,
   "metadata": {},
   "outputs": [
    {
     "name": "stdout",
     "output_type": "stream",
     "text": [
      "The proportion of total observations that chose to accept the coupon is 0.5684\n"
     ]
    }
   ],
   "source": [
    "proportion_accepted = df['Y'].sum() / df.shape[0]\n",
    "print(f\"The proportion of total observations that chose to accept the coupon is {proportion_accepted:.4f}\")"
   ]
  },
  {
   "cell_type": "markdown",
   "metadata": {},
   "source": [
    "5. Use a bar plot to visualize the `coupon` column."
   ]
  },
  {
   "cell_type": "code",
   "execution_count": 20,
   "metadata": {},
   "outputs": [
    {
     "data": {
      "image/png": "[encoded data removed]",
      "text/plain": [
       "<Figure size 1000x600 with 1 Axes>"
      ]
     },
     "metadata": {},
     "output_type": "display_data"
    }
   ],
   "source": [
    "import matplotlib.pyplot as plt\n",
    "\n",
    "# Count the occurrences of each coupon type\n",
    "coupon_counts = df['coupon'].value_counts()\n",
    "\n",
    "# Create the bar plot\n",
    "plt.figure(figsize=(10, 6))\n",
    "plt.bar(coupon_counts.index, coupon_counts.values, color='blue')\n",
    "plt.xlabel('Coupon Type')\n",
    "plt.ylabel('Frequency')\n",
    "plt.title('Distribution of Coupon Types')\n",
    "plt.show()"
   ]
  },
  {
   "cell_type": "markdown",
   "metadata": {},
   "source": [
    "6. Use a histogram to visualize the temperature column."
   ]
  },
  {
   "cell_type": "code",
   "execution_count": 21,
   "metadata": {},
   "outputs": [
    {
     "data": {
      "image/png": "[encoded data removed]",
      "text/plain": [
       "<Figure size 1000x600 with 1 Axes>"
      ]
     },
     "metadata": {},
     "output_type": "display_data"
    }
   ],
   "source": [
    "\n",
    "# Create the histogram\n",
    "plt.figure(figsize=(10, 6))\n",
    "plt.hist(df['temperature'], bins=20, color='green', edgecolor='black')\n",
    "plt.xlabel('Temperature')\n",
    "plt.ylabel('Frequency')\n",
    "plt.title('Distribution of Temperature')\n",
    "plt.show()"
   ]
  },
  {
   "cell_type": "code",
   "execution_count": null,
   "metadata": {},
   "outputs": [],
   "source": []
  },
  {
   "cell_type": "code",
   "execution_count": null,
   "metadata": {},
   "outputs": [],
   "source": []
  },
  {
   "cell_type": "code",
   "execution_count": null,
   "metadata": {},
   "outputs": [],
   "source": []
  },
  {
   "cell_type": "code",
   "execution_count": null,
   "metadata": {},
   "outputs": [],
   "source": []
  },
  {
   "cell_type": "markdown",
   "metadata": {},
   "source": [
    "**Investigating the Bar Coupons**\n",
    "\n",
    "Now, we will lead you through an exploration of just the bar related coupons.  \n",
    "\n",
    "1. Create a new `DataFrame` that contains just the bar coupons.\n"
   ]
  },
  {
   "cell_type": "code",
   "execution_count": 24,
   "metadata": {},
   "outputs": [
    {
     "name": "stdout",
     "output_type": "stream",
     "text": [
      "        destination  passenger weather  temperature  time coupon expiration  \\\n",
      "9   No Urgent Place     Kid(s)   Sunny           80  10AM    Bar         1d   \n",
      "13             Home      Alone   Sunny           55   6PM    Bar         1d   \n",
      "17             Work      Alone   Sunny           55   7AM    Bar         1d   \n",
      "24  No Urgent Place  Friend(s)   Sunny           80  10AM    Bar         1d   \n",
      "35             Home      Alone   Sunny           55   6PM    Bar         1d   \n",
      "\n",
      "    gender age      maritalStatus  ...  CoffeeHouse CarryAway  \\\n",
      "9   Female  21  Unmarried partner  ...        never       1~3   \n",
      "13  Female  21  Unmarried partner  ...        never       1~3   \n",
      "17  Female  21  Unmarried partner  ...        never       1~3   \n",
      "24    Male  21             Single  ...        less1       4~8   \n",
      "35    Male  21             Single  ...        less1       4~8   \n",
      "\n",
      "   RestaurantLessThan20 Restaurant20To50 toCoupon_GEQ5min toCoupon_GEQ15min  \\\n",
      "9                   4~8              1~3                1                 1   \n",
      "13                  4~8              1~3                1                 0   \n",
      "17                  4~8              1~3                1                 1   \n",
      "24                  4~8            less1                1                 0   \n",
      "35                  4~8            less1                1                 0   \n",
      "\n",
      "   toCoupon_GEQ25min direction_same direction_opp  Y  \n",
      "9                  0              0             1  0  \n",
      "13                 0              1             0  1  \n",
      "17                 1              0             1  0  \n",
      "24                 0              0             1  1  \n",
      "35                 0              1             0  1  \n",
      "\n",
      "[5 rows x 25 columns]\n"
     ]
    }
   ],
   "source": [
    "# Filter the DataFrame to include only 'Bar' coupons\n",
    "bar_coupons_df = df[df['coupon'] == 'Bar']\n",
    "print(bar_coupons_df.head())"
   ]
  },
  {
   "cell_type": "markdown",
   "metadata": {},
   "source": [
    "2. What proportion of bar coupons were accepted?\n"
   ]
  },
  {
   "cell_type": "code",
   "execution_count": 25,
   "metadata": {},
   "outputs": [
    {
     "data": {
      "text/plain": [
       "0.41001487357461575"
      ]
     },
     "execution_count": 25,
     "metadata": {},
     "output_type": "execute_result"
    }
   ],
   "source": [
    "# Filter the DataFrame for \"bar\" coupons\n",
    "bar_coupons_accepted = bar_coupons_df[bar_coupons_df['Y'] == 1]\n",
    "\n",
    "# Calculate the proportion of accepted \"bar\" coupons\n",
    "proportion_bar_coupons_accepted = len(bar_coupons_accepted) / len(bar_coupons_df)\n",
    "\n",
    "proportion_bar_coupons_accepted"
   ]
  },
  {
   "cell_type": "markdown",
   "metadata": {},
   "source": [
    "3. Compare the acceptance rate between those who went to a bar 3 or fewer times a month to those who went more.\n"
   ]
  },
  {
   "cell_type": "code",
   "execution_count": 28,
   "metadata": {},
   "outputs": [
    {
     "name": "stdout",
     "output_type": "stream",
     "text": [
      "Acceptance rate for less frequent bar-goers: 0.37073707370737075\n",
      "Acceptance rate for more frequent bar-goers: 0.7688442211055276\n"
     ]
    }
   ],
   "source": [
    "# Filter the DataFrame based on the frequency of going to a bar\n",
    "less_frequent = bar_coupons_df[bar_coupons_df['Bar'].isin(['never', 'less1', '1~3'])]\n",
    "more_frequent = bar_coupons_df[bar_coupons_df['Bar'].isin(['4~8', 'gt8'])]\n",
    "\n",
    "# Compute the acceptance rate for both groups\n",
    "acceptance_rate_less = less_frequent['Y'].mean()\n",
    "acceptance_rate_more = more_frequent['Y'].mean()\n",
    "\n",
    "print(f\"Acceptance rate for less frequent bar-goers: {acceptance_rate_less}\")\n",
    "print(f\"Acceptance rate for more frequent bar-goers: {acceptance_rate_more}\")\n",
    "\n"
   ]
  },
  {
   "cell_type": "markdown",
   "metadata": {},
   "source": [
    "4. Compare the acceptance rate between drivers who go to a bar more than once a month and are over the age of 25 to the all others.  Is there a difference?\n"
   ]
  },
  {
   "cell_type": "code",
   "execution_count": 40,
   "metadata": {},
   "outputs": [
    {
     "name": "stdout",
     "output_type": "stream",
     "text": [
      "Acceptance rate for criteria group: 0.625688851208139\n",
      "Acceptance rate for other group: 0.5553510895883778\n"
     ]
    }
   ],
   "source": [
    "# Convert 'age' to numeric, given that it might be stored as strings\n",
    "df['age'] = df['age'].replace('50plus', '50')\n",
    "df['age'] = pd.to_numeric(df['age'], errors='coerce')\n",
    "\n",
    "# Filter DataFrame for individuals who go to a bar more than once a month and are over 25\n",
    "criteria_group = df[(df['Bar'].isin(['1~3', '4~8', 'gt8'])) & (df['age'] > 25)]\n",
    "\n",
    "# Filter DataFrame for all others\n",
    "other_group = df[~df.index.isin(criteria_group.index)]\n",
    "\n",
    "# Calculate acceptance rate for both groups\n",
    "acceptance_rate_criteria = criteria_group['Y'].mean()\n",
    "acceptance_rate_others = other_group['Y'].mean()\n",
    "\n",
    "print(f\"Acceptance rate for criteria group: {acceptance_rate_criteria}\")\n",
    "print(f\"Acceptance rate for other group: {acceptance_rate_others}\")"
   ]
  },
  {
   "cell_type": "markdown",
   "metadata": {},
   "source": [
    "5. Use the same process to compare the acceptance rate between drivers who go to bars more than once a month and had passengers that were not a kid and had occupations other than farming, fishing, or forestry. \n"
   ]
  },
  {
   "cell_type": "code",
   "execution_count": 47,
   "metadata": {},
   "outputs": [
    {
     "name": "stdout",
     "output_type": "stream",
     "text": [
      "Acceptance rate for criteria group: 0.6231060606060606\n",
      "Acceptance rate for other group: 0.5459501557632399\n"
     ]
    }
   ],
   "source": [
    "# Filter DataFrame for individuals meeting all three criteria\n",
    "criteria_group = df[\n",
    "    (df['Bar'].isin(['1~3', '4~8', 'gt8'])) &\n",
    "    (df['passanger'] != 'Kid(s)') &\n",
    "    (~df['occupation'].isin(['Farming, Fishing, and Forestry']))\n",
    "]\n",
    "\n",
    "# Filter DataFrame for all others\n",
    "other_group = df[~df.index.isin(criteria_group.index)]\n",
    "\n",
    "# Calculate acceptance rate for both groups\n",
    "acceptance_rate_criteria = criteria_group['Y'].mean()\n",
    "acceptance_rate_others = other_group['Y'].mean()\n",
    "\n",
    "print(f\"Acceptance rate for criteria group: {acceptance_rate_criteria}\")\n",
    "print(f\"Acceptance rate for other group: {acceptance_rate_others}\")"
   ]
  },
  {
   "cell_type": "code",
   "execution_count": null,
   "metadata": {},
   "outputs": [],
   "source": []
  },
  {
   "cell_type": "markdown",
   "metadata": {},
   "source": [
    "6. Compare the acceptance rates between those drivers who:\n",
    "\n",
    "- go to bars more than once a month, had passengers that were not a kid, and were not widowed *OR*\n",
    "- go to bars more than once a month and are under the age of 30 *OR*\n",
    "- go to cheap restaurants more than 4 times a month and income is less than 50K. \n",
    "\n"
   ]
  },
  {
   "cell_type": "code",
   "execution_count": 48,
   "metadata": {},
   "outputs": [
    {
     "name": "stdout",
     "output_type": "stream",
     "text": [
      "Acceptance rate for Group 1: 0.6231060606060606\n",
      "Acceptance rate for Group 2: 0.6284549161758043\n",
      "Acceptance rate for Group 3: nan\n"
     ]
    }
   ],
   "source": [
    "df = pd.read_csv('coupons.csv')\n",
    "# Convert 'age' and 'income' to numeric, if they're not already\n",
    "df['age'] = df['age'].replace('50plus', '50')\n",
    "df['age'] = pd.to_numeric(df['age'], errors='coerce')\n",
    "df['income'] = pd.to_numeric(df['income'], errors='coerce')\n",
    "\n",
    "# Define the three groups\n",
    "group1 = df[\n",
    "    (df['Bar'].isin(['1~3', '4~8', 'gt8'])) &\n",
    "    (df['passanger'] != 'Kid(s)') &\n",
    "    (df['maritalStatus'] != 'Widowed')\n",
    "]\n",
    "\n",
    "group2 = df[\n",
    "    (df['Bar'].isin(['1~3', '4~8', 'gt8'])) &\n",
    "    (df['age'] < 30)\n",
    "]\n",
    "\n",
    "group3 = df[\n",
    "    (df['RestaurantLessThan20'].isin(['4~8', 'gt8'])) &\n",
    "    (df['income'] < 50000)\n",
    "]\n",
    "\n",
    "# Calculate the acceptance rates\n",
    "acceptance_rate_group1 = group1['Y'].mean()\n",
    "acceptance_rate_group2 = group2['Y'].mean()\n",
    "acceptance_rate_group3 = group3['Y'].mean()\n",
    "\n",
    "print(f\"Acceptance rate for Group 1: {acceptance_rate_group1}\")\n",
    "print(f\"Acceptance rate for Group 2: {acceptance_rate_group2}\")\n",
    "print(f\"Acceptance rate for Group 3: {acceptance_rate_group3}\")"
   ]
  },
  {
   "cell_type": "markdown",
   "metadata": {},
   "source": [
    "7.  Based on these observations, what do you hypothesize about drivers who accepted the bar coupons?"
   ]
  },
  {
   "cell_type": "markdown",
   "metadata": {
    "scrolled": true
   },
   "source": [
    "Answer: There may be a positive correllation between having a habit visiting restaurants or bars frequently and a willingness to accept coupons to a bar. We may find other correlations or alternative hypotheses on exploring the data further.\n"
   ]
  },
  {
   "cell_type": "code",
   "execution_count": 52,
   "metadata": {},
   "outputs": [
    {
     "name": "stdout",
     "output_type": "stream",
     "text": [
      "int64\n"
     ]
    }
   ],
   "source": [
    "# Check data type\n",
    "print(df['toCoupon_GEQ5min'].dtypes)\n",
    "\n",
    "# Convert to numeric, coercing errors to NaN\n",
    "df['toCoupon_GEQ5min'] = pd.to_numeric(df['toCoupon_GEQ5min'], errors='coerce')"
   ]
  },
  {
   "cell_type": "markdown",
   "metadata": {},
   "source": [
    "### Independent Investigation\n",
    "\n",
    "Using the bar coupon example as motivation, you are to explore one of the other coupon groups and try to determine the characteristics of passengers who accept the coupons.  "
   ]
  },
  {
   "cell_type": "code",
   "execution_count": 59,
   "metadata": {},
   "outputs": [
    {
     "name": "stdout",
     "output_type": "stream",
     "text": [
      "Index(['destination', 'passanger', 'weather', 'temperature', 'time', 'coupon',\n",
      "       'expiration', 'gender', 'age', 'maritalStatus', 'has_children',\n",
      "       'education', 'occupation', 'income', 'car', 'Bar', 'CoffeeHouse',\n",
      "       'CarryAway', 'RestaurantLessThan20', 'Restaurant20To50',\n",
      "       'toCoupon_GEQ15min', 'toCoupon_GEQ25min', 'direction_same',\n",
      "       'direction_opp', 'Y', 'income_midpoint'],\n",
      "      dtype='object')\n"
     ]
    }
   ],
   "source": [
    "print(df.columns)"
   ]
  },
  {
   "cell_type": "code",
   "execution_count": 62,
   "metadata": {},
   "outputs": [
    {
     "name": "stdout",
     "output_type": "stream",
     "text": [
      "False\n",
      "True\n",
      "False\n",
      "[nan]\n"
     ]
    }
   ],
   "source": [
    "print(np.isinf(df['income']).any())\n",
    "print(df['income'].isna().any())\n",
    "print(np.isinf(df['income']).any())\n",
    "print(df['income'].unique())"
   ]
  },
  {
   "cell_type": "code",
   "execution_count": 82,
   "metadata": {},
   "outputs": [
    {
     "name": "stdout",
     "output_type": "stream",
     "text": [
      "[nan]\n"
     ]
    }
   ],
   "source": [
    "#Convert 'income' column to numerical\n",
    "def income_to_midpoint(income_str):\n",
    "    if pd.isna(income_str):\n",
    "        return np.nan\n",
    "    elif income_str == \"$100000 or More\":\n",
    "        return 100000\n",
    "    elif income_str == \"Less than $12500\":\n",
    "        return 6250\n",
    "    else:\n",
    "        low, high = income_str.replace(\"$\", \"\").split(\" - \")\n",
    "        return (int(low) + int(high)) / 2\n",
    "\n",
    "df['income_midpoint'] = df['income'].apply(income_to_midpoint)\n",
    "print(df['income'].unique())"
   ]
  },
  {
   "cell_type": "code",
   "execution_count": 83,
   "metadata": {},
   "outputs": [
    {
     "data": {
      "text/html": [
       "<div>\n",
       "<style scoped>\n",
       "    .dataframe tbody tr th:only-of-type {\n",
       "        vertical-align: middle;\n",
       "    }\n",
       "\n",
       "    .dataframe tbody tr th {\n",
       "        vertical-align: top;\n",
       "    }\n",
       "\n",
       "    .dataframe thead th {\n",
       "        text-align: right;\n",
       "    }\n",
       "</style>\n",
       "<table border=\"1\" class=\"dataframe\">\n",
       "  <thead>\n",
       "    <tr style=\"text-align: right;\">\n",
       "      <th></th>\n",
       "      <th>destination</th>\n",
       "      <th>passanger</th>\n",
       "      <th>weather</th>\n",
       "      <th>temperature</th>\n",
       "      <th>time</th>\n",
       "      <th>coupon</th>\n",
       "      <th>expiration</th>\n",
       "      <th>gender</th>\n",
       "      <th>age</th>\n",
       "      <th>maritalStatus</th>\n",
       "      <th>...</th>\n",
       "      <th>CoffeeHouse</th>\n",
       "      <th>CarryAway</th>\n",
       "      <th>RestaurantLessThan20</th>\n",
       "      <th>Restaurant20To50</th>\n",
       "      <th>toCoupon_GEQ15min</th>\n",
       "      <th>toCoupon_GEQ25min</th>\n",
       "      <th>direction_same</th>\n",
       "      <th>direction_opp</th>\n",
       "      <th>Y</th>\n",
       "      <th>income_midpoint</th>\n",
       "    </tr>\n",
       "  </thead>\n",
       "  <tbody>\n",
       "    <tr>\n",
       "      <th>0</th>\n",
       "      <td>No Urgent Place</td>\n",
       "      <td>Alone</td>\n",
       "      <td>Sunny</td>\n",
       "      <td>55</td>\n",
       "      <td>2PM</td>\n",
       "      <td>Restaurant(&lt;20)</td>\n",
       "      <td>1d</td>\n",
       "      <td>Female</td>\n",
       "      <td>21.0</td>\n",
       "      <td>Unmarried partner</td>\n",
       "      <td>...</td>\n",
       "      <td>never</td>\n",
       "      <td>NaN</td>\n",
       "      <td>4~8</td>\n",
       "      <td>1~3</td>\n",
       "      <td>0</td>\n",
       "      <td>0</td>\n",
       "      <td>0</td>\n",
       "      <td>1</td>\n",
       "      <td>1</td>\n",
       "      <td>NaN</td>\n",
       "    </tr>\n",
       "    <tr>\n",
       "      <th>1</th>\n",
       "      <td>No Urgent Place</td>\n",
       "      <td>Friend(s)</td>\n",
       "      <td>Sunny</td>\n",
       "      <td>80</td>\n",
       "      <td>10AM</td>\n",
       "      <td>Coffee House</td>\n",
       "      <td>2h</td>\n",
       "      <td>Female</td>\n",
       "      <td>21.0</td>\n",
       "      <td>Unmarried partner</td>\n",
       "      <td>...</td>\n",
       "      <td>never</td>\n",
       "      <td>NaN</td>\n",
       "      <td>4~8</td>\n",
       "      <td>1~3</td>\n",
       "      <td>0</td>\n",
       "      <td>0</td>\n",
       "      <td>0</td>\n",
       "      <td>1</td>\n",
       "      <td>0</td>\n",
       "      <td>NaN</td>\n",
       "    </tr>\n",
       "    <tr>\n",
       "      <th>2</th>\n",
       "      <td>No Urgent Place</td>\n",
       "      <td>Friend(s)</td>\n",
       "      <td>Sunny</td>\n",
       "      <td>80</td>\n",
       "      <td>10AM</td>\n",
       "      <td>Carry out &amp; Take away</td>\n",
       "      <td>2h</td>\n",
       "      <td>Female</td>\n",
       "      <td>21.0</td>\n",
       "      <td>Unmarried partner</td>\n",
       "      <td>...</td>\n",
       "      <td>never</td>\n",
       "      <td>NaN</td>\n",
       "      <td>4~8</td>\n",
       "      <td>1~3</td>\n",
       "      <td>1</td>\n",
       "      <td>0</td>\n",
       "      <td>0</td>\n",
       "      <td>1</td>\n",
       "      <td>1</td>\n",
       "      <td>NaN</td>\n",
       "    </tr>\n",
       "    <tr>\n",
       "      <th>3</th>\n",
       "      <td>No Urgent Place</td>\n",
       "      <td>Friend(s)</td>\n",
       "      <td>Sunny</td>\n",
       "      <td>80</td>\n",
       "      <td>2PM</td>\n",
       "      <td>Coffee House</td>\n",
       "      <td>2h</td>\n",
       "      <td>Female</td>\n",
       "      <td>21.0</td>\n",
       "      <td>Unmarried partner</td>\n",
       "      <td>...</td>\n",
       "      <td>never</td>\n",
       "      <td>NaN</td>\n",
       "      <td>4~8</td>\n",
       "      <td>1~3</td>\n",
       "      <td>1</td>\n",
       "      <td>0</td>\n",
       "      <td>0</td>\n",
       "      <td>1</td>\n",
       "      <td>0</td>\n",
       "      <td>NaN</td>\n",
       "    </tr>\n",
       "    <tr>\n",
       "      <th>4</th>\n",
       "      <td>No Urgent Place</td>\n",
       "      <td>Friend(s)</td>\n",
       "      <td>Sunny</td>\n",
       "      <td>80</td>\n",
       "      <td>2PM</td>\n",
       "      <td>Coffee House</td>\n",
       "      <td>1d</td>\n",
       "      <td>Female</td>\n",
       "      <td>21.0</td>\n",
       "      <td>Unmarried partner</td>\n",
       "      <td>...</td>\n",
       "      <td>never</td>\n",
       "      <td>NaN</td>\n",
       "      <td>4~8</td>\n",
       "      <td>1~3</td>\n",
       "      <td>1</td>\n",
       "      <td>0</td>\n",
       "      <td>0</td>\n",
       "      <td>1</td>\n",
       "      <td>0</td>\n",
       "      <td>NaN</td>\n",
       "    </tr>\n",
       "  </tbody>\n",
       "</table>\n",
       "<p>5 rows × 26 columns</p>\n",
       "</div>"
      ],
      "text/plain": [
       "       destination  passanger weather  temperature  time  \\\n",
       "0  No Urgent Place      Alone   Sunny           55   2PM   \n",
       "1  No Urgent Place  Friend(s)   Sunny           80  10AM   \n",
       "2  No Urgent Place  Friend(s)   Sunny           80  10AM   \n",
       "3  No Urgent Place  Friend(s)   Sunny           80   2PM   \n",
       "4  No Urgent Place  Friend(s)   Sunny           80   2PM   \n",
       "\n",
       "                  coupon expiration  gender   age      maritalStatus  ...  \\\n",
       "0        Restaurant(<20)         1d  Female  21.0  Unmarried partner  ...   \n",
       "1           Coffee House         2h  Female  21.0  Unmarried partner  ...   \n",
       "2  Carry out & Take away         2h  Female  21.0  Unmarried partner  ...   \n",
       "3           Coffee House         2h  Female  21.0  Unmarried partner  ...   \n",
       "4           Coffee House         1d  Female  21.0  Unmarried partner  ...   \n",
       "\n",
       "   CoffeeHouse CarryAway RestaurantLessThan20  Restaurant20To50  \\\n",
       "0        never       NaN                  4~8               1~3   \n",
       "1        never       NaN                  4~8               1~3   \n",
       "2        never       NaN                  4~8               1~3   \n",
       "3        never       NaN                  4~8               1~3   \n",
       "4        never       NaN                  4~8               1~3   \n",
       "\n",
       "  toCoupon_GEQ15min toCoupon_GEQ25min direction_same direction_opp  Y  \\\n",
       "0                 0                 0              0             1  1   \n",
       "1                 0                 0              0             1  0   \n",
       "2                 1                 0              0             1  1   \n",
       "3                 1                 0              0             1  0   \n",
       "4                 1                 0              0             1  0   \n",
       "\n",
       "  income_midpoint  \n",
       "0             NaN  \n",
       "1             NaN  \n",
       "2             NaN  \n",
       "3             NaN  \n",
       "4             NaN  \n",
       "\n",
       "[5 rows x 26 columns]"
      ]
     },
     "execution_count": 83,
     "metadata": {},
     "output_type": "execute_result"
    }
   ],
   "source": [
    "df.head()"
   ]
  },
  {
   "cell_type": "code",
   "execution_count": 88,
   "metadata": {},
   "outputs": [
    {
     "name": "stdout",
     "output_type": "stream",
     "text": [
      "['$37500 - $49999' '$62500 - $74999' '$12500 - $24999' '$75000 - $87499'\n",
      " '$50000 - $62499' '$25000 - $37499' '$100000 or More' '$87500 - $99999'\n",
      " 'Less than $12500']\n",
      "object\n"
     ]
    }
   ],
   "source": [
    "# Reload the DataFrame\n",
    "df = pd.read_csv('coupons.csv')\n",
    "\n",
    "# Re-inspect the 'income' column\n",
    "print(df['income'].unique())\n",
    "print(df['income'].dtype)"
   ]
  },
  {
   "cell_type": "code",
   "execution_count": 89,
   "metadata": {},
   "outputs": [],
   "source": [
    "income_to_midpoint = {\n",
    "    \"$100000 or More\": 100000,\n",
    "    \"12500 - $24999\": (12500 + 24999) // 2,\n",
    "    \"Less than $12500\": 6250,\n",
    "    \"$75000 - $87499\": (75000 + 87499) // 2,\n",
    "    \"$50000 - $62499\": (50000 + 62499) // 2,\n",
    "    \"$25000 - $37499\": (25000 + 37499) // 2,\n",
    "    \"$37500 - $49999\": (37500 + 49999) // 2,\n",
    "    \"$87500 - $99999\": (87500 + 99999) // 2\n",
    "}\n",
    "\n",
    "df['income_midpoint'] = df['income'].map(income_to_midpoint)"
   ]
  },
  {
   "cell_type": "code",
   "execution_count": 93,
   "metadata": {},
   "outputs": [
    {
     "name": "stdout",
     "output_type": "stream",
     "text": [
      "Variables sorted by p-value: ['passanger', 'destination', 'time', 'weather']\n"
     ]
    }
   ],
   "source": [
    "from scipy.stats import chi2_contingency\n",
    "\n",
    "# Assume df is your DataFrame\n",
    "context_vars = ['destination', 'weather', 'time', 'passanger']\n",
    "target_var = 'Y'\n",
    "\n",
    "# Initialize empty dictionary to hold chi-square results\n",
    "chi2_results = {}\n",
    "\n",
    "# Loop through each context variable and perform chi-square test\n",
    "for var in context_vars:\n",
    "    contingency_table = pd.crosstab(df[var], df[target_var])\n",
    "    chi2, p, _, _ = chi2_contingency(contingency_table)\n",
    "    chi2_results[var] = p\n",
    "\n",
    "# Sort variables by p-value to identify most significant variables\n",
    "sorted_vars = sorted(chi2_results, key=chi2_results.get)\n",
    "\n",
    "print(\"Variables sorted by p-value:\", sorted_vars)"
   ]
  },
  {
   "cell_type": "markdown",
   "metadata": {},
   "source": [
    "### Interpretation of findings:\n",
    "\n",
    "The variable with the lowest p-value ('passanger') is the most significant, suggesting that who is in the car plays a substantial role in determining whether a coupon will be used or not.\n",
    "'Destination' and 'time' follow, indicating that where a person is going and the time of day also have some influence.\n",
    "'Weather' comes last, so while it's still statistically significant, it's less influential compared to the other variables."
   ]
  },
  {
   "cell_type": "code",
   "execution_count": 95,
   "metadata": {},
   "outputs": [
    {
     "name": "stdout",
     "output_type": "stream",
     "text": [
      "Accuracy: 0.5959795033504138\n",
      "Feature importance:\n",
      "passanger: 0.3178062307616933\n",
      "time: 0.29693947001593957\n",
      "weather: 0.2546865907303607\n",
      "destination: 0.13056770849200655\n"
     ]
    }
   ],
   "source": [
    "from sklearn.ensemble import RandomForestClassifier\n",
    "from sklearn.model_selection import train_test_split\n",
    "from sklearn.preprocessing import LabelEncoder\n",
    "from sklearn.metrics import accuracy_score\n",
    "\n",
    "# Encode the categorical variables\n",
    "label_encoders = {}\n",
    "for col in ['passanger', 'destination', 'time', 'weather']:\n",
    "    le = LabelEncoder()\n",
    "    df[col] = le.fit_transform(df[col])\n",
    "    label_encoders[col] = le\n",
    "\n",
    "# Prepare features and target variable\n",
    "X = df[['passanger', 'destination', 'time', 'weather']]\n",
    "y = df['Y']\n",
    "\n",
    "# Split the dataset\n",
    "X_train, X_test, y_train, y_test = train_test_split(X, y, test_size=0.2, random_state=42)\n",
    "\n",
    "# Initialize and train the model\n",
    "rf = RandomForestClassifier(n_estimators=100, random_state=42)\n",
    "rf.fit(X_train, y_train)\n",
    "\n",
    "# Evaluate the model\n",
    "y_pred = rf.predict(X_test)\n",
    "print(\"Accuracy:\", accuracy_score(y_test, y_pred))\n",
    "\n",
    "# Feature Importance\n",
    "importances = rf.feature_importances_\n",
    "sorted_indices = np.argsort(importances)[::-1]\n",
    "print(\"Feature importance:\")\n",
    "for i in sorted_indices:\n",
    "    print(f\"{X.columns[i]}: {importances[i]}\")"
   ]
  },
  {
   "cell_type": "markdown",
   "metadata": {},
   "source": [
    "The Random Forest model achieved an accuracy of approximately 59.6%, which is decent for an initial run.\n",
    "\n",
    "The feature importance scores suggest that 'passanger' has the most predictive power in determining coupon usage, followed by 'time', 'weather', and then 'destination'. This could imply that who the person is with ('passanger') and when the coupon is available ('time') may be more impactful on coupon usage compared to other variables like 'weather' or 'destination'.\n"
   ]
  },
  {
   "cell_type": "code",
   "execution_count": 96,
   "metadata": {},
   "outputs": [
    {
     "name": "stdout",
     "output_type": "stream",
     "text": [
      "Accuracy: 0.5829720141899882\n",
      "Feature importance:\n",
      "passanger: 0.4480089384841142\n",
      "destination: 0.18693386732339182\n",
      "time: 0.07184267983448775\n",
      "weather: 0.29321451435800616\n"
     ]
    }
   ],
   "source": [
    "from sklearn.ensemble import GradientBoostingClassifier\n",
    "from sklearn.metrics import accuracy_score\n",
    "\n",
    "# Assuming X_train, X_test, y_train, y_test are already defined and preprocessed\n",
    "# and only include the important features: 'passanger', 'destination', 'time', 'weather'\n",
    "\n",
    "gb_clf = GradientBoostingClassifier(n_estimators=100, learning_rate=1.0, max_depth=1, random_state=0)\n",
    "gb_clf.fit(X_train, y_train)\n",
    "\n",
    "y_pred = gb_clf.predict(X_test)\n",
    "\n",
    "accuracy = accuracy_score(y_test, y_pred)\n",
    "\n",
    "feature_importance = gb_clf.feature_importances_\n",
    "\n",
    "print(\"Accuracy:\", accuracy)\n",
    "print(\"Feature importance:\")\n",
    "for feature, importance in zip(['passanger', 'destination', 'time', 'weather'], feature_importance):\n",
    "    print(f\"{feature}: {importance}\")"
   ]
  },
  {
   "cell_type": "markdown",
   "metadata": {},
   "source": [
    "The machine learning models point to certain variables as significant, yet the changes in feature importance between Random Forest and Gradient Boosting suggest that there's complexity in how these variables interact to predict coupon usage.\n",
    "\n",
    "The story here could be that while variables like 'passanger,' 'time,' and 'weather' appear to have an influence on coupon usage, their individual importance can vary depending on the model used. This indicates that a single variable is not solely responsible for the action (using the coupon or not) but rather a combination of these factors."
   ]
  },
  {
   "cell_type": "code",
   "execution_count": 101,
   "metadata": {},
   "outputs": [
    {
     "data": {
      "image/png": "[encoded data removed]",
      "text/plain": [
       "<Figure size 1000x600 with 1 Axes>"
      ]
     },
     "metadata": {},
     "output_type": "display_data"
    },
    {
     "data": {
      "image/png": "[encoded data removed]",
      "text/plain": [
       "<Figure size 1000x600 with 1 Axes>"
      ]
     },
     "metadata": {},
     "output_type": "display_data"
    },
    {
     "data": {
      "image/png": "[encoded data removed]",
      "text/plain": [
       "<Figure size 1400x800 with 1 Axes>"
      ]
     },
     "metadata": {},
     "output_type": "display_data"
    },
    {
     "name": "stdout",
     "output_type": "stream",
     "text": [
      "Frequency table for 'Destination':\n",
      "1    3982\n",
      "0    1639\n",
      "2    1589\n",
      "Name: destination, dtype: int64\n",
      "\n",
      "Frequency table for 'Time':\n",
      "3    1888\n",
      "4    1589\n",
      "0    1384\n",
      "2    1329\n",
      "1    1020\n",
      "Name: time, dtype: int64\n"
     ]
    }
   ],
   "source": [
    "# Exploring distribution of 'Destination' and 'time' when coupon is used\n",
    "coupon_used = df[df['Y'] == 1]\n",
    "\n",
    "# Countplot for 'Destination'\n",
    "plt.figure(figsize=(10, 6))\n",
    "sns.countplot(data=coupon_used, x='destination')\n",
    "plt.title('Distribution of \"Destination\" when Coupon is Used')\n",
    "plt.show()\n",
    "\n",
    "# Countplot for 'time'\n",
    "plt.figure(figsize=(10, 6))\n",
    "sns.countplot(data=coupon_used, x='time')\n",
    "plt.title('Distribution of \"time\" when Coupon is Used')\n",
    "plt.show()\n",
    "\n",
    "# Exploring interaction between 'Destination' and 'time'\n",
    "plt.figure(figsize=(14, 8))\n",
    "sns.countplot(data=coupon_used, x='destination', hue='time')\n",
    "plt.title('Interaction between \"destination\" and \"time\" when Coupon is Used')\n",
    "plt.show()\n",
    "\n",
    "# Frequency table for 'destination' when coupon is used\n",
    "destination_counts = coupon_used['destination'].value_counts()\n",
    "print(\"Frequency table for 'Destination':\")\n",
    "print(destination_counts)\n",
    "\n",
    "# Frequency table for 'time' when coupon is used\n",
    "time_counts = coupon_used['time'].value_counts()\n",
    "print(\"\\nFrequency table for 'Time':\")\n",
    "print(time_counts)\n"
   ]
  },
  {
   "cell_type": "code",
   "execution_count": 103,
   "metadata": {},
   "outputs": [
    {
     "data": {
      "image/png": "[encoded data removed]",
      "text/plain": [
       "<Figure size 1000x600 with 1 Axes>"
      ]
     },
     "metadata": {},
     "output_type": "display_data"
    },
    {
     "name": "stdout",
     "output_type": "stream",
     "text": [
      "Text Table for 'Destination':\n",
      "Home               1639\n",
      "No Urgent Place    1589\n",
      "Work               3982\n",
      "Name: destination_str, dtype: int64\n"
     ]
    },
    {
     "data": {
      "image/png": "[encoded data removed]",
      "text/plain": [
       "<Figure size 1000x600 with 1 Axes>"
      ]
     },
     "metadata": {},
     "output_type": "display_data"
    },
    {
     "name": "stdout",
     "output_type": "stream",
     "text": [
      "\n",
      "Text Table for 'Time':\n",
      "10AM     1020\n",
      "2PM      1329\n",
      "6PM      1888\n",
      "7AM      1384\n",
      "Other    1589\n",
      "Name: time_str, dtype: int64\n"
     ]
    },
    {
     "data": {
      "text/plain": [
       "<Figure size 1400x800 with 0 Axes>"
      ]
     },
     "metadata": {},
     "output_type": "display_data"
    },
    {
     "data": {
      "image/png": "[encoded data removed]",
      "text/plain": [
       "<Figure size 640x480 with 1 Axes>"
      ]
     },
     "metadata": {},
     "output_type": "display_data"
    },
    {
     "name": "stdout",
     "output_type": "stream",
     "text": [
      "\n",
      "Text Table for Interaction between 'Destination' and 'Time':\n",
      "time_str         10AM   2PM   6PM   7AM  Other\n",
      "destination_str                               \n",
      "Home              485     0  1154     0      0\n",
      "No Urgent Place     0     0     0     0   1589\n",
      "Work              535  1329   734  1384      0\n"
     ]
    }
   ],
   "source": [
    "# First, let's map the numerical 'destination' and 'time' to their actual string categories\n",
    "destination_map = {0: 'Home', 1: 'Work', 2: 'No Urgent Place'}\n",
    "time_map = {0: '7AM', 1: '10AM', 2: '2PM', 3: '6PM', 4: 'Other'}\n",
    "\n",
    "df['destination_str'] = df['destination'].map(destination_map)\n",
    "df['time_str'] = df['time'].map(time_map)\n",
    "\n",
    "# Filter only rows where a coupon is used\n",
    "coupon_used = df[df['Y'] == 1]\n",
    "\n",
    "# Distribution of 'Destination' when Coupon is Used\n",
    "destination_count = coupon_used['destination_str'].value_counts().sort_index()\n",
    "plt.figure(figsize=(10, 6))\n",
    "destination_count.plot(kind='bar')\n",
    "plt.title('Distribution of \"Destination\" when Coupon is Used')\n",
    "plt.xlabel('Destination')\n",
    "plt.ylabel('Frequency')\n",
    "plt.xticks(rotation=0)\n",
    "plt.show()\n",
    "print(\"Text Table for 'Destination':\")\n",
    "print(destination_count)\n",
    "\n",
    "# Distribution of 'Time' when Coupon is Used\n",
    "time_count = coupon_used['time_str'].value_counts().sort_index()\n",
    "plt.figure(figsize=(10, 6))\n",
    "time_count.plot(kind='bar')\n",
    "plt.title('Distribution of \"Time\" when Coupon is Used')\n",
    "plt.xlabel('Time')\n",
    "plt.ylabel('Frequency')\n",
    "plt.xticks(rotation=0)\n",
    "plt.show()\n",
    "print(\"\\nText Table for 'Time':\")\n",
    "print(time_count)\n",
    "\n",
    "# Interaction between 'Destination' and 'Time' when Coupon is Used\n",
    "interaction_count = pd.crosstab(coupon_used['destination_str'], coupon_used['time_str'])\n",
    "plt.figure(figsize=(14, 8))\n",
    "interaction_count.plot(kind='bar', stacked=True)\n",
    "plt.title('Interaction between \"Destination\" and \"Time\" when Coupon is Used')\n",
    "plt.xlabel('Destination')\n",
    "plt.ylabel('Frequency')\n",
    "plt.legend(title='Time')\n",
    "plt.xticks(rotation=0)\n",
    "plt.show()\n",
    "print(\"\\nText Table for Interaction between 'Destination' and 'Time':\")\n",
    "print(interaction_count)\n"
   ]
  },
  {
   "cell_type": "code",
   "execution_count": null,
   "metadata": {},
   "outputs": [],
   "source": []
  },
  {
   "cell_type": "markdown",
   "metadata": {},
   "source": [
    "### Machine Learning Approach for Deeper Analysis\n",
    "Data Preprocessing:\n",
    "\n",
    "Convert categorical variables like 'Destination' and 'Time' to numerical format using one-hot encoding.\n",
    "Normalize continuous variables.\n",
    "Handle missing data, if any.\n",
    "Feature Selection:\n",
    "\n",
    "Use algorithms like Recursive Feature Elimination (RFE) to find the most important variables affecting coupon usage.\n",
    "Clustering:\n",
    "\n",
    "Use K-means to segment the user base into distinct clusters based on 'Destination' and 'Time'.\n",
    "Evaluate the clustering using metrics like silhouette score and Davies–Bouldin index."
   ]
  },
  {
   "cell_type": "code",
   "execution_count": 106,
   "metadata": {},
   "outputs": [
    {
     "name": "stderr",
     "output_type": "stream",
     "text": [
      "C:\\Users\\Annik\\anaconda3\\Lib\\site-packages\\sklearn\\cluster\\_kmeans.py:1416: FutureWarning:\n",
      "\n",
      "The default value of `n_init` will change from 10 to 'auto' in 1.4. Set the value of `n_init` explicitly to suppress the warning\n",
      "\n"
     ]
    },
    {
     "name": "stdout",
     "output_type": "stream",
     "text": [
      "Silhouette Score: 0.5902097560391889\n"
     ]
    }
   ],
   "source": [
    "from sklearn.preprocessing import StandardScaler, OneHotEncoder\n",
    "from sklearn.cluster import KMeans\n",
    "from sklearn.metrics import silhouette_score\n",
    "\n",
    "# One-hot encode 'Destination' and 'Time'\n",
    "encoder = OneHotEncoder()\n",
    "encoded_features = encoder.fit_transform(df[['destination', 'time']]).toarray()\n",
    "\n",
    "# Standardize the features\n",
    "scaler = StandardScaler()\n",
    "scaled_features = scaler.fit_transform(encoded_features)\n",
    "\n",
    "# K-means clustering\n",
    "kmeans = KMeans(n_clusters=3, random_state=42)\n",
    "kmeans_labels = kmeans.fit_predict(scaled_features)\n",
    "\n",
    "# Evaluate clustering\n",
    "silhouette_avg = silhouette_score(scaled_features, kmeans_labels)\n",
    "print(f'Silhouette Score: {silhouette_avg}')"
   ]
  },
  {
   "cell_type": "markdown",
   "metadata": {},
   "source": [
    "Classification Models:\n",
    "Use decision trees or random forests to classify instances where coupons will be used.\n",
    "Evaluate the model using metrics like accuracy, precision, recall, and F1-score."
   ]
  },
  {
   "cell_type": "code",
   "execution_count": 111,
   "metadata": {},
   "outputs": [
    {
     "name": "stdout",
     "output_type": "stream",
     "text": [
      "              precision    recall  f1-score   support\n",
      "\n",
      "           0       0.76      0.66      0.70      1128\n",
      "           1       0.75      0.83      0.79      1409\n",
      "\n",
      "    accuracy                           0.75      2537\n",
      "   macro avg       0.75      0.74      0.75      2537\n",
      "weighted avg       0.75      0.75      0.75      2537\n",
      "\n",
      "Feature importances: [0.01173035 0.02877753 0.02071239 0.03318041 0.03150336 0.10365105\n",
      " 0.03419632 0.02345884 0.06070859 0.03813245 0.01932263 0.04596094\n",
      " 0.08277168 0.05762187 0.00245817 0.0517861  0.06309998 0.04695153\n",
      " 0.04527901 0.04298261 0.         0.02511407 0.01080569 0.00911298\n",
      " 0.00952309 0.0531795  0.01616216 0.03181671]\n"
     ]
    }
   ],
   "source": [
    "# Label encode the ordinal columns\n",
    "label_encoder = LabelEncoder()\n",
    "for col in df.columns:\n",
    "    df[col] = label_encoder.fit_transform(df[col])\n",
    "\n",
    "# Use 'Y' as the actual target column\n",
    "X = df.drop(['Y'], axis=1)\n",
    "y = df['Y']\n",
    "\n",
    "# Split the dataset\n",
    "X_train, X_test, y_train, y_test = train_test_split(X, y, test_size=0.2, random_state=42)\n",
    "\n",
    "# Initialize and train the Random Forest Classifier\n",
    "clf = RandomForestClassifier()\n",
    "clf.fit(X_train, y_train)\n",
    "\n",
    "# Make predictions\n",
    "y_pred = clf.predict(X_test)\n",
    "\n",
    "# Print classification report\n",
    "print(classification_report(y_test, y_pred))\n",
    "\n",
    "# Print feature importances\n",
    "print(\"Feature importances:\", clf.feature_importances_)"
   ]
  },
  {
   "cell_type": "markdown",
   "metadata": {},
   "source": [
    "Using  Python's numpy.argmax() to get the index of the highest importance and then map it back to the dataset's column name."
   ]
  },
  {
   "cell_type": "code",
   "execution_count": 112,
   "metadata": {},
   "outputs": [
    {
     "name": "stdout",
     "output_type": "stream",
     "text": [
      "The most important feature is coupon with an importance of 0.10365105386802566\n"
     ]
    }
   ],
   "source": [
    "# Get the index of the most important feature\n",
    "most_important_index = np.argmax(clf.feature_importances_)\n",
    "\n",
    "# Get the name of the most important feature\n",
    "most_important_feature = X.columns[most_important_index]\n",
    "\n",
    "print(f\"The most important feature is {most_important_feature} with an importance of {clf.feature_importances_[most_important_index]}\")"
   ]
  },
  {
   "cell_type": "markdown",
   "metadata": {},
   "source": [
    "Since values in the \"coupon\" column are categorical data, a straightforward way to gain insights would be to count the frequency of each category. This can give us an idea of which types of coupons are more prevalent in the dataset."
   ]
  },
  {
   "cell_type": "code",
   "execution_count": 114,
   "metadata": {},
   "outputs": [
    {
     "name": "stdout",
     "output_type": "stream",
     "text": [
      "Sorted frequency count of coupon types:\n",
      "{}\n"
     ]
    }
   ],
   "source": [
    "from collections import Counter\n",
    "\n",
    "# Assuming the 'coupon' column values are stored in a list called 'coupon_values'\n",
    "coupon_values = [\n",
    "    # your values here...\n",
    "]\n",
    "\n",
    "# Count the frequency of each type of coupon\n",
    "coupon_counter = Counter(coupon_values)\n",
    "\n",
    "# Sort the counter to make it easier to analyze\n",
    "sorted_coupon_counter = {k: v for k, v in sorted(coupon_counter.items(), key=lambda item: item[1], reverse=True)}\n",
    "\n",
    "# Print the sorted frequency count\n",
    "print(\"Sorted frequency count of coupon types:\")\n",
    "print(sorted_coupon_counter)"
   ]
  },
  {
   "cell_type": "code",
   "execution_count": 115,
   "metadata": {},
   "outputs": [
    {
     "name": "stdout",
     "output_type": "stream",
     "text": [
      "Unique values in the 'coupon' column:\n",
      "[4 2 1 0 3]\n"
     ]
    }
   ],
   "source": [
    "unique_coupon_values = df['coupon'].unique()\n",
    "\n",
    "# Print unique values\n",
    "print(\"Unique values in the 'coupon' column:\")\n",
    "print(unique_coupon_values)"
   ]
  },
  {
   "cell_type": "code",
   "execution_count": null,
   "metadata": {},
   "outputs": [],
   "source": []
  }
 ],
 "metadata": {
  "kernelspec": {
   "display_name": "Python 3 (ipykernel)",
   "language": "python",
   "name": "python3"
  },
  "language_info": {
   "codemirror_mode": {
    "name": "ipython",
    "version": 3
   },
   "file_extension": ".py",
   "mimetype": "text/x-python",
   "name": "python",
   "nbconvert_exporter": "python",
   "pygments_lexer": "ipython3",
   "version": "3.11.4"
  },
  "widgets": {
   "application/vnd.jupyter.widget-state+json": {
    "state": {},
    "version_major": 2,
    "version_minor": 0
   }
  }
 },
 "nbformat": 4,
 "nbformat_minor": 4
}
